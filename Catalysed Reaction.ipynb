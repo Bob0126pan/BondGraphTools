{
 "cells": [
  {
   "cell_type": "code",
   "execution_count": 1,
   "metadata": {},
   "outputs": [],
   "source": [
    "%matplotlib inline\n",
    "from BondGraphTools.addons.biochem import Reaction_Network"
   ]
  },
  {
   "cell_type": "code",
   "execution_count": 2,
   "metadata": {},
   "outputs": [],
   "source": [
    "rn = Reaction_Network(name=\"Cycle\")\n",
    "rn.add_reaction(\"X + S = SX = X + P\")\n",
    "rn.add_chemostat(\"X\")\n",
    "rn.add_flowstat(\"P\")\n",
    "graph = rn.bond_graph"
   ]
  },
  {
   "cell_type": "code",
   "execution_count": 3,
   "metadata": {},
   "outputs": [
    {
     "data": {
      "image/png": "[encoded data removed]",
      "text/plain": [
       "<matplotlib.figure.Figure at 0x10d061ba8>"
      ]
     },
     "metadata": {},
     "output_type": "display_data"
    }
   ],
   "source": [
    "from BondGraphTools.core.layout_manager import arrange\n",
    "from BondGraphTools.transforms.matplotlib import draw\n",
    "arrange(graph)\n",
    "fig = draw(graph)"
   ]
  },
  {
   "cell_type": "code",
   "execution_count": 4,
   "metadata": {},
   "outputs": [],
   "source": [
    "from BondGraphTools.transforms.latex import bondgraph_to_sympy, reduce, _smith_normal_form\n",
    "from sympy import init_printing, eye\n",
    "init_printing()\n",
    "dx, x, A, B, J, NL = bondgraph_to_sympy(graph)\n",
    "s, n = reduce(dx, x, A, B, J, NL)"
   ]
  },
  {
   "cell_type": "code",
   "execution_count": 17,
   "metadata": {},
   "outputs": [
    {
     "data": {
      "image/png": "[encoded data removed]",
      "text/latex": [
       "$$26$$"
      ],
      "text/plain": [
       "26"
      ]
     },
     "execution_count": 17,
     "metadata": {},
     "output_type": "execute_result"
    }
   ],
   "source": []
  },
  {
   "cell_type": "code",
   "execution_count": 6,
   "metadata": {},
   "outputs": [
    {
     "data": {
      "image/png": "[encoded data removed]",
      "text/latex": [
       "$$\\left[\\begin{matrix}- R T \\log{\\left (\\frac{1}{V} \\operatorname{q_{X}}{\\left (t \\right )} \\right )} - e0_{X} + \\operatorname{e_{X}}{\\left (t \\right )}\\\\- R T \\log{\\left (\\frac{1}{V} \\operatorname{q_{S}}{\\left (t \\right )} \\right )} - e0_{S} + \\operatorname{e_{S}}{\\left (t \\right )}\\\\- R T \\log{\\left (\\frac{1}{V} \\operatorname{q_{SX}}{\\left (t \\right )} \\right )} - e0_{SX} + \\operatorname{e_{SX}}{\\left (t \\right )}\\\\- R T \\log{\\left (\\frac{1}{V} \\operatorname{q_{P}}{\\left (t \\right )} \\right )} - e0_{P} + \\operatorname{e_{P}}{\\left (t \\right )}\\\\- kappa_{r1_0} \\left(e^{\\frac{\\operatorname{e_{r1_0;0}}{\\left (t \\right )}}{R T}} - e^{\\frac{\\operatorname{e_{r1_0;1}}{\\left (t \\right )}}{R T}}\\right) + \\operatorname{f_{r1_0;0}}{\\left (t \\right )}\\\\- kappa_{r1_1} \\left(e^{\\frac{\\operatorname{e_{r1_1;0}}{\\left (t \\right )}}{R T}} - e^{\\frac{\\operatorname{e_{r1_1;1}}{\\left (t \\right )}}{R T}}\\right) + \\operatorname{f_{r1_1;0}}{\\left (t \\right )}\\end{matrix}\\right]$$"
      ],
      "text/plain": [
       "⎡                   ⎛q_{X}(t)⎞                               ⎤\n",
       "⎢          - R⋅T⋅log⎜────────⎟ - e_0_{X} + e_{X}(t)          ⎥\n",
       "⎢                   ⎝   V    ⎠                               ⎥\n",
       "⎢                                                            ⎥\n",
       "⎢                   ⎛q_{S}(t)⎞                               ⎥\n",
       "⎢          - R⋅T⋅log⎜────────⎟ - e_0_{S} + e_{S}(t)          ⎥\n",
       "⎢                   ⎝   V    ⎠                               ⎥\n",
       "⎢                                                            ⎥\n",
       "⎢                 ⎛q_{SX}(t)⎞                                ⎥\n",
       "⎢        - R⋅T⋅log⎜─────────⎟ - e_0_{SX} + e_{SX}(t)         ⎥\n",
       "⎢                 ⎝    V    ⎠                                ⎥\n",
       "⎢                                                            ⎥\n",
       "⎢                   ⎛q_{P}(t)⎞                               ⎥\n",
       "⎢          - R⋅T⋅log⎜────────⎟ - e_0_{P} + e_{P}(t)          ⎥\n",
       "⎢                   ⎝   V    ⎠                               ⎥\n",
       "⎢                                                            ⎥\n",
       "⎢           ⎛ e_{r1_0;0}(t)    e_{r1_0;1}(t)⎞                ⎥\n",
       "⎢           ⎜ ─────────────    ─────────────⎟                ⎥\n",
       "⎢           ⎜      R⋅T              R⋅T     ⎟                ⎥\n",
       "⎢- κ_{r1_0}⋅⎝ℯ              - ℯ             ⎠ + f_{r1_0;0}(t)⎥\n",
       "⎢                                                            ⎥\n",
       "⎢           ⎛ e_{r1_1;0}(t)    e_{r1_1;1}(t)⎞                ⎥\n",
       "⎢           ⎜ ─────────────    ─────────────⎟                ⎥\n",
       "⎢           ⎜      R⋅T              R⋅T     ⎟                ⎥\n",
       "⎣- κ_{r1_1}⋅⎝ℯ              - ℯ             ⎠ + f_{r1_1;0}(t)⎦"
      ]
     },
     "execution_count": 6,
     "metadata": {},
     "output_type": "execute_result"
    }
   ],
   "source": [
    "NL"
   ]
  },
  {
   "cell_type": "code",
   "execution_count": 21,
   "metadata": {},
   "outputs": [
    {
     "data": {
      "text/plain": [
       "array([[ 1.,  0.,  0.],\n",
       "       [ 0.,  1.,  1.],\n",
       "       [ 4.,  0.,  1.]])"
      ]
     },
     "execution_count": 21,
     "metadata": {},
     "output_type": "execute_result"
    }
   ],
   "source": [
    "import numpy as np\n",
    "e = np.eye(3)\n",
    "e[1,2] = 1\n",
    "e[2,0] = 4\n",
    "e\n"
   ]
  },
  {
   "cell_type": "code",
   "execution_count": 53,
   "metadata": {},
   "outputs": [
    {
     "data": {
      "text/plain": [
       "array([[ 1.],\n",
       "       [ 2.],\n",
       "       [ 5.]])"
      ]
     },
     "execution_count": 53,
     "metadata": {},
     "output_type": "execute_result"
    }
   ],
   "source": [
    "e.sum(1, keepdims=True)"
   ]
  },
  {
   "cell_type": "code",
   "execution_count": 67,
   "metadata": {},
   "outputs": [],
   "source": [
    "z = np.array([1,2,3], ndmin=2).transpose()\n"
   ]
  },
  {
   "cell_type": "code",
   "execution_count": 68,
   "metadata": {},
   "outputs": [
    {
     "data": {
      "text/plain": [
       "array([[1],\n",
       "       [2],\n",
       "       [3]])"
      ]
     },
     "execution_count": 68,
     "metadata": {},
     "output_type": "execute_result"
    }
   ],
   "source": [
    "z"
   ]
  },
  {
   "cell_type": "code",
   "execution_count": null,
   "metadata": {},
   "outputs": [],
   "source": []
  }
 ],
 "metadata": {
  "kernelspec": {
   "display_name": "Python 3",
   "language": "python",
   "name": "python3"
  },
  "language_info": {
   "codemirror_mode": {
    "name": "ipython",
    "version": 3
   },
   "file_extension": ".py",
   "mimetype": "text/x-python",
   "name": "python",
   "nbconvert_exporter": "python",
   "pygments_lexer": "ipython3",
   "version": "3.6.2"
  }
 },
 "nbformat": 4,
 "nbformat_minor": 2
}
