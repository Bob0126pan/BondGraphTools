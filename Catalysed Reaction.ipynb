{
 "cells": [
  {
   "cell_type": "code",
   "execution_count": 1,
   "metadata": {},
   "outputs": [],
   "source": [
    "%matplotlib inline\n",
    "from sympy import init_printing\n",
    "init_printing()"
   ]
  },
  {
   "cell_type": "markdown",
   "metadata": {},
   "source": [
    "# BondGraphTools Prototype Demonstration\n",
    "By Peter Cudmore, Systems Biology Lab @ UniMelb \n",
    "\n",
    "## Catalysed Reaction with Reaction Builder\n",
    "\n",
    "### Reaction Networks.\n",
    "Here we use the bond graph tools 'biochem' addon to build a reaction network and automatically lay out the bond graph.\n",
    "\n",
    "After making a new reaction network object, we add the reaction sequence \"X + S = SX + X + P\", as well as a chemostat to hold X at a fixed concentration, and a flowstat to siphon off a fixed amount of P. (Note that parameterization is not yet implemented).\n",
    "\n",
    "Once the entire reaction is specified, the bond graph can generated."
   ]
  },
  {
   "cell_type": "code",
   "execution_count": 2,
   "metadata": {},
   "outputs": [],
   "source": [
    "from BondGraphTools.addons.biochem import Reaction_Network\n",
    "rn = Reaction_Network(name=\"Cycle\")\n",
    "rn.add_reaction(\"X + S = SX = X + P\")\n",
    "rn.add_chemostat(\"X\")\n",
    "rn.add_flowstat(\"P\")\n",
    "graph = rn.bond_graph"
   ]
  },
  {
   "cell_type": "markdown",
   "metadata": {},
   "source": [
    "### Bond Graph Visualisation.\n",
    "\n",
    "Generation of the bond graph does not automatically produce a layout, instead that must be performed later.\n",
    "Indeed, generating 'nice' visualisation of bond graphs is as hard as 'The Metro Map Problem', automatic circuit schematic layout, and other well know graph visualisation problems. \n",
    "\n",
    "Currently, the force directed algorithm seems to work best for this particular reaciton network, however more robust algorithms are in development."
   ]
  },
  {
   "cell_type": "code",
   "execution_count": 3,
   "metadata": {},
   "outputs": [
    {
     "data": {
      "image/png": "[encoded data removed]",
      "text/plain": [
       "<matplotlib.figure.Figure at 0x10a744160>"
      ]
     },
     "metadata": {},
     "output_type": "display_data"
    }
   ],
   "source": [
    "from BondGraphTools.core.layout_manager import arrange, force_directed\n",
    "from BondGraphTools.transforms.matplotlib import draw\n",
    "arrange(graph, algorithm=force_directed)\n",
    "fig = draw(graph)"
   ]
  },
  {
   "cell_type": "markdown",
   "metadata": {},
   "source": [
    "### Model Equations\n",
    "\n",
    "As with the RLC example, one can turn a bond graph into equations.\n",
    "Here we generate the model equations and compute the reduced dynamics.\n",
    "\n",
    "This system is entirely non-linear, hence both $A$ and $B$ are zero and as a consequence the `linear` reduced equations is zero.\n",
    "\n",
    "As algorithmically reducing nonlinear systems is a non-trivial problem, the actual calculation can take time (in this case a few seconds), and the functionality is a work in progress."
   ]
  },
  {
   "cell_type": "code",
   "execution_count": 4,
   "metadata": {},
   "outputs": [],
   "source": [
    "from BondGraphTools.transforms.latex import bondgraph_to_sympy, reduce\n",
    "dx, x, A, B, J, NL = bondgraph_to_sympy(graph)\n",
    "linear, nonlinear = reduce(dx, x, A, B, J, NL)"
   ]
  },
  {
   "cell_type": "code",
   "execution_count": 5,
   "metadata": {},
   "outputs": [
    {
     "data": {
      "image/png": "[encoded data removed]",
      "text/latex": [
       "$$\\left[\\begin{matrix}- R T \\log{\\left (\\frac{1}{V} \\operatorname{q_{X}}{\\left (t \\right )} \\right )} - e0_{X} + \\operatorname{e_{X}}{\\left (t \\right )}\\\\- R T \\log{\\left (\\frac{1}{V} \\operatorname{q_{S}}{\\left (t \\right )} \\right )} - e0_{S} + \\operatorname{e_{S}}{\\left (t \\right )}\\\\- R T \\log{\\left (\\frac{1}{V} \\operatorname{q_{SX}}{\\left (t \\right )} \\right )} - e0_{SX} + \\operatorname{e_{SX}}{\\left (t \\right )}\\\\- R T \\log{\\left (\\frac{1}{V} \\operatorname{q_{P}}{\\left (t \\right )} \\right )} - e0_{P} + \\operatorname{e_{P}}{\\left (t \\right )}\\\\- k_{r1_0} \\left(e^{\\frac{\\operatorname{e_{r1_0;0}}{\\left (t \\right )}}{R T}} - e^{\\frac{\\operatorname{e_{r1_0;1}}{\\left (t \\right )}}{R T}}\\right) + \\operatorname{f_{r1_0;0}}{\\left (t \\right )}\\\\- k_{r1_1} \\left(e^{\\frac{\\operatorname{e_{r1_1;0}}{\\left (t \\right )}}{R T}} - e^{\\frac{\\operatorname{e_{r1_1;1}}{\\left (t \\right )}}{R T}}\\right) + \\operatorname{f_{r1_1;0}}{\\left (t \\right )}\\end{matrix}\\right]$$"
      ],
      "text/plain": [
       "⎡                   ⎛q_{X}(t)⎞                               ⎤\n",
       "⎢          - R⋅T⋅log⎜────────⎟ - e_0_{X} + e_{X}(t)          ⎥\n",
       "⎢                   ⎝   V    ⎠                               ⎥\n",
       "⎢                                                            ⎥\n",
       "⎢                   ⎛q_{S}(t)⎞                               ⎥\n",
       "⎢          - R⋅T⋅log⎜────────⎟ - e_0_{S} + e_{S}(t)          ⎥\n",
       "⎢                   ⎝   V    ⎠                               ⎥\n",
       "⎢                                                            ⎥\n",
       "⎢                 ⎛q_{SX}(t)⎞                                ⎥\n",
       "⎢        - R⋅T⋅log⎜─────────⎟ - e_0_{SX} + e_{SX}(t)         ⎥\n",
       "⎢                 ⎝    V    ⎠                                ⎥\n",
       "⎢                                                            ⎥\n",
       "⎢                   ⎛q_{P}(t)⎞                               ⎥\n",
       "⎢          - R⋅T⋅log⎜────────⎟ - e_0_{P} + e_{P}(t)          ⎥\n",
       "⎢                   ⎝   V    ⎠                               ⎥\n",
       "⎢                                                            ⎥\n",
       "⎢           ⎛ e_{r1_0;0}(t)    e_{r1_0;1}(t)⎞                ⎥\n",
       "⎢           ⎜ ─────────────    ─────────────⎟                ⎥\n",
       "⎢           ⎜      R⋅T              R⋅T     ⎟                ⎥\n",
       "⎢- k_{r1_0}⋅⎝ℯ              - ℯ             ⎠ + f_{r1_0;0}(t)⎥\n",
       "⎢                                                            ⎥\n",
       "⎢           ⎛ e_{r1_1;0}(t)    e_{r1_1;1}(t)⎞                ⎥\n",
       "⎢           ⎜ ─────────────    ─────────────⎟                ⎥\n",
       "⎢           ⎜      R⋅T              R⋅T     ⎟                ⎥\n",
       "⎣- k_{r1_1}⋅⎝ℯ              - ℯ             ⎠ + f_{r1_1;0}(t)⎦"
      ]
     },
     "execution_count": 5,
     "metadata": {},
     "output_type": "execute_result"
    }
   ],
   "source": [
    "nonlinear"
   ]
  }
 ],
 "metadata": {
  "kernelspec": {
   "display_name": "Python 3",
   "language": "python",
   "name": "python3"
  },
  "language_info": {
   "codemirror_mode": {
    "name": "ipython",
    "version": 3
   },
   "file_extension": ".py",
   "mimetype": "text/x-python",
   "name": "python",
   "nbconvert_exporter": "python",
   "pygments_lexer": "ipython3",
   "version": "3.6.2"
  }
 },
 "nbformat": 4,
 "nbformat_minor": 2
}
