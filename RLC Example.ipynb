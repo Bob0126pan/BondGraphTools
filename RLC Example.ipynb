{
 "cells": [
  {
   "cell_type": "code",
   "execution_count": 1,
   "metadata": {},
   "outputs": [],
   "source": [
    "from BondGraphTools import BondGraph, arrange"
   ]
  },
  {
   "cell_type": "code",
   "execution_count": 2,
   "metadata": {},
   "outputs": [],
   "source": [
    "bg = BondGraph(\"RLC\")"
   ]
  },
  {
   "cell_type": "code",
   "execution_count": 3,
   "metadata": {},
   "outputs": [],
   "source": [
    "c = bg.add_component(\"C\")\n",
    "r = bg.add_component(\"R\")\n",
    "i = bg.add_component(\"I\")\n",
    "kvl = bg.add_component(\"0\")\n",
    "\n",
    "bg.add_bond(kvl, c)\n",
    "bg.add_bond(kvl, r)\n",
    "bg.add_bond(kvl, i)"
   ]
  },
  {
   "cell_type": "code",
   "execution_count": 4,
   "metadata": {},
   "outputs": [
    {
     "data": {
      "image/png": "[encoded data removed]",
      "text/plain": [
       "<matplotlib.figure.Figure at 0x10a750438>"
      ]
     },
     "metadata": {},
     "output_type": "display_data"
    }
   ],
   "source": [
    "%matplotlib inline\n",
    "from BondGraphTools.transforms.matplotlib import draw\n",
    "arrange(bg)\n",
    "fig = draw(bg)"
   ]
  },
  {
   "cell_type": "code",
   "execution_count": 5,
   "metadata": {},
   "outputs": [],
   "source": [
    "from BondGraphTools.transforms.latex import bondgraph_to_sympy, reduce\n",
    "from sympy import init_printing, eye\n",
    "init_printing()\n",
    "dx,x,A,B,J,NL = bondgraph_to_sympy(bg)\n",
    "s, n = reduce(dx,x,A,B,J,NL)"
   ]
  },
  {
   "cell_type": "code",
   "execution_count": 6,
   "metadata": {
    "scrolled": false
   },
   "outputs": [
    {
     "data": {
      "image/png": "[encoded data removed]",
      "text/latex": [
       "$$\\left[\\begin{matrix}\\frac{d}{d t} \\operatorname{f_{I_1}}{\\left (t \\right )} - \\frac{1}{L_{I_1}} \\operatorname{e_{I_1}}{\\left (t \\right )}\\\\\\frac{d}{d t} \\operatorname{e_{I_1}}{\\left (t \\right )} + \\frac{1}{c_{C_1}} \\operatorname{f_{I_1}}{\\left (t \\right )} + \\frac{\\operatorname{e_{I_1}}{\\left (t \\right )}}{c_{C_1} r_{R_1}}\\end{matrix}\\right]$$"
      ],
      "text/plain": [
       "⎡         d                e_{I_1}(t)         ⎤\n",
       "⎢         ──(f_{I_1}(t)) - ──────────         ⎥\n",
       "⎢         dt                L_{I_1}           ⎥\n",
       "⎢                                             ⎥\n",
       "⎢d                f_{I_1}(t)      e_{I_1}(t)  ⎥\n",
       "⎢──(e_{I_1}(t)) + ────────── + ───────────────⎥\n",
       "⎣dt                c_{C_1}     c_{C_1}⋅r_{R_1}⎦"
      ]
     },
     "execution_count": 6,
     "metadata": {},
     "output_type": "execute_result"
    }
   ],
   "source": [
    "s"
   ]
  },
  {
   "cell_type": "code",
   "execution_count": 7,
   "metadata": {},
   "outputs": [
    {
     "data": {
      "image/png": "[encoded data removed]",
      "text/latex": [
       "$$\\left[\\begin{matrix}\\end{matrix}\\right]$$"
      ],
      "text/plain": [
       "[]"
      ]
     },
     "execution_count": 7,
     "metadata": {},
     "output_type": "execute_result"
    }
   ],
   "source": [
    "n"
   ]
  },
  {
   "cell_type": "code",
   "execution_count": null,
   "metadata": {},
   "outputs": [],
   "source": []
  },
  {
   "cell_type": "code",
   "execution_count": null,
   "metadata": {},
   "outputs": [],
   "source": []
  },
  {
   "cell_type": "code",
   "execution_count": null,
   "metadata": {},
   "outputs": [],
   "source": []
  },
  {
   "cell_type": "code",
   "execution_count": null,
   "metadata": {},
   "outputs": [],
   "source": []
  },
  {
   "cell_type": "code",
   "execution_count": null,
   "metadata": {},
   "outputs": [],
   "source": []
  },
  {
   "cell_type": "code",
   "execution_count": null,
   "metadata": {},
   "outputs": [],
   "source": []
  },
  {
   "cell_type": "code",
   "execution_count": null,
   "metadata": {},
   "outputs": [],
   "source": []
  }
 ],
 "metadata": {
  "kernelspec": {
   "display_name": "Python 3",
   "language": "python",
   "name": "python3"
  },
  "language_info": {
   "codemirror_mode": {
    "name": "ipython",
    "version": 3
   },
   "file_extension": ".py",
   "mimetype": "text/x-python",
   "name": "python",
   "nbconvert_exporter": "python",
   "pygments_lexer": "ipython3",
   "version": "3.6.2"
  }
 },
 "nbformat": 4,
 "nbformat_minor": 2
}
