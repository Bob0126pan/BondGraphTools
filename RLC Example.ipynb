{
 "cells": [
  {
   "cell_type": "code",
   "execution_count": 1,
   "metadata": {},
   "outputs": [],
   "source": [
    "#Notebook display setup\n",
    "%matplotlib inline\n",
    "from sympy import init_printing, MatAdd, MatMul, Eq\n",
    "init_printing()"
   ]
  },
  {
   "cell_type": "markdown",
   "metadata": {},
   "source": [
    "# BondGraphTools Prototype Demonstration\n",
    "By Peter Cudmore, Systems Biology Lab @ UniMelb\n",
    "## RLC Example\n",
    "### Creating Bond Graphs\n",
    "\n",
    "Bond Graphs are a useful cross-domain modelling toolkit.\n",
    "It its very simple to programmatically create a bond graph using BondGraphTools.\n",
    "Here, we create a parallel RLC circuit by creating a new bond graph, adding a linear capacitor, a resistor and an inductor. In order to be able to use this model in simulations or other modules, we add a port to the outside environment.\n",
    "We also add a common effort component which represents Kirchoffs voltage law, and position this at the origin of the visual representation.\n",
    "\n",
    "Finally, we add bonds between the common effort component and each component, which completes our bond graph."
   ]
  },
  {
   "cell_type": "code",
   "execution_count": 2,
   "metadata": {},
   "outputs": [],
   "source": [
    "from BondGraphTools import BondGraph\n",
    "bg = BondGraph(\"RLC\")\n",
    "\n",
    "p = bg.add_component(\"P\")\n",
    "c = bg.add_component(\"C\")\n",
    "r = bg.add_component(\"R\")\n",
    "i = bg.add_component(\"I\")\n",
    "\n",
    "\n",
    "kvl = bg.add_component(\"0\", pos=(0,0))\n",
    "\n",
    "bg.add_bond(kvl, c)\n",
    "bg.add_bond(kvl, r)\n",
    "bg.add_bond(kvl, i)\n",
    "bg.add_bond(kvl, p)"
   ]
  },
  {
   "cell_type": "markdown",
   "metadata": {},
   "source": [
    "### Displaying Bond Graphs\n",
    "\n",
    "When programatically creating bond graphs, you may choose to specificy the visual co-ordinates of each component (for example; setting `pos=(0,0)` when creating the `kvl` node.\n",
    "\n",
    "However, if positions are not specified (as in the case of the other components), then there is not yet a visual represntation of the bond graph.\n",
    "\n",
    "Using the `arrange` function, one can automatically generate a visual representation from a bond graph.\n",
    "However, as allgorithmically visualising graphs is a hard problem, the effectiveness of these algorithms may vary.\n",
    "\n",
    "Currently implemented algoprithms include:\n",
    " - Simulated Annealing\n",
    " - Branch & Bound Search\n",
    " - Force-Directed layout\n",
    " - (Forthcoming) New metro-map-esq layout\n",
    "\n",
    "Once a bond graph has been arranged, it can be drawn using the matplotlib transform.\n",
    "Clearly there is still work to be done so as to produce high-quality graphs."
   ]
  },
  {
   "cell_type": "code",
   "execution_count": 3,
   "metadata": {},
   "outputs": [
    {
     "name": "stderr",
     "output_type": "stream",
     "text": [
      "/usr/local/lib/python3.6/site-packages/matplotlib/font_manager.py:1339: UserWarning: findfont: Font family ['serif'] not found. Falling back to DejaVu Sans\n",
      "  (prop.get_family(), self.defaultFamily[fontext]))\n",
      "/usr/local/lib/python3.6/site-packages/matplotlib/font_manager.py:1339: UserWarning: findfont: Font family ['serif'] not found. Falling back to DejaVu Sans\n",
      "  (prop.get_family(), self.defaultFamily[fontext]))\n",
      "/usr/local/lib/python3.6/site-packages/matplotlib/font_manager.py:1339: UserWarning: findfont: Font family ['serif'] not found. Falling back to DejaVu Sans\n",
      "  (prop.get_family(), self.defaultFamily[fontext]))\n"
     ]
    },
    {
     "data": {
      "image/png": "[encoded data removed]",
      "text/plain": [
       "<Figure size 720x720 with 1 Axes>"
      ]
     },
     "metadata": {},
     "output_type": "display_data"
    }
   ],
   "source": [
    "from BondGraphTools.transforms.matplotlib import draw\n",
    "from BondGraphTools.core.layout_manager import branch_and_bound, arrange\n",
    "\n",
    "arrange(bg, algorithm=branch_and_bound)\n",
    "fig = draw(bg)"
   ]
  },
  {
   "cell_type": "markdown",
   "metadata": {},
   "source": [
    "### Equations\n",
    "\n",
    "Bond graph models make equation generation and modelling simple.\n",
    "Once a bond graph has been generated, it can be converted into equations as below.\n",
    "This produces the differential algebraic equation:\n",
    "$$A\\frac{dx}{dt} + Bx =0$$\n",
    "$$Jx = 0$$\n",
    "$$NL(x) = 0$$\n",
    "\n",
    "Here $J$ is the 'junction' matrix, which represents how all local co-ordinates are related, and $NL$ is a vector field of nonlinear terms (which in this case is zero)."
   ]
  },
  {
   "cell_type": "code",
   "execution_count": 4,
   "metadata": {},
   "outputs": [
    {
     "ename": "NameError",
     "evalue": "name '_construct_coordinates' is not defined",
     "output_type": "error",
     "traceback": [
      "\u001b[0;31m---------------------------------------------------------------------------\u001b[0m",
      "\u001b[0;31mNameError\u001b[0m                                 Traceback (most recent call last)",
      "\u001b[0;32m<ipython-input-4-7ea3509fe001>\u001b[0m in \u001b[0;36m<module>\u001b[0;34m()\u001b[0m\n\u001b[1;32m      1\u001b[0m \u001b[0;32mfrom\u001b[0m \u001b[0mBondGraphTools\u001b[0m\u001b[0;34m.\u001b[0m\u001b[0mtransforms\u001b[0m\u001b[0;34m.\u001b[0m\u001b[0mlatex\u001b[0m \u001b[0;32mimport\u001b[0m \u001b[0mbondgraph_to_sympy\u001b[0m\u001b[0;34m,\u001b[0m \u001b[0mreduce\u001b[0m\u001b[0;34m\u001b[0m\u001b[0m\n\u001b[0;32m----> 2\u001b[0;31m \u001b[0mdx\u001b[0m\u001b[0;34m,\u001b[0m\u001b[0mx\u001b[0m\u001b[0;34m,\u001b[0m\u001b[0mA\u001b[0m\u001b[0;34m,\u001b[0m\u001b[0mB\u001b[0m\u001b[0;34m,\u001b[0m\u001b[0mJ\u001b[0m\u001b[0;34m,\u001b[0m\u001b[0mNL\u001b[0m \u001b[0;34m=\u001b[0m \u001b[0mbondgraph_to_sympy\u001b[0m\u001b[0;34m(\u001b[0m\u001b[0mbg\u001b[0m\u001b[0;34m)\u001b[0m\u001b[0;34m\u001b[0m\u001b[0m\n\u001b[0m",
      "\u001b[0;32m~/Documents/projects/BondGraph/BondGraphTools/transforms/latex.py\u001b[0m in \u001b[0;36mbondgraph_to_sympy\u001b[0;34m(graph)\u001b[0m\n\u001b[1;32m     18\u001b[0m         \u001b[0mNL\u001b[0m\u001b[0;34m(\u001b[0m\u001b[0mx\u001b[0m\u001b[0;34m,\u001b[0m\u001b[0mdx\u001b[0m\u001b[0;34m)\u001b[0m \u001b[0;34m=\u001b[0m \u001b[0;36m0\u001b[0m\u001b[0;34m\u001b[0m\u001b[0m\n\u001b[1;32m     19\u001b[0m     \"\"\"\n\u001b[0;32m---> 20\u001b[0;31m     \u001b[0mxdot\u001b[0m\u001b[0;34m,\u001b[0m \u001b[0mx\u001b[0m\u001b[0;34m,\u001b[0m \u001b[0mp\u001b[0m\u001b[0;34m,\u001b[0m \u001b[0mrelations\u001b[0m\u001b[0;34m,\u001b[0m \u001b[0mlabels\u001b[0m \u001b[0;34m=\u001b[0m \u001b[0m_construct_coordinates\u001b[0m\u001b[0;34m(\u001b[0m\u001b[0mgraph\u001b[0m\u001b[0;34m)\u001b[0m\u001b[0;34m\u001b[0m\u001b[0m\n\u001b[0m\u001b[1;32m     21\u001b[0m \u001b[0;34m\u001b[0m\u001b[0m\n\u001b[1;32m     22\u001b[0m     \u001b[0;31m#dy, y, J, D,  NL = _matricize(xdot, x, p)\u001b[0m\u001b[0;34m\u001b[0m\u001b[0;34m\u001b[0m\u001b[0m\n",
      "\u001b[0;31mNameError\u001b[0m: name '_construct_coordinates' is not defined"
     ]
    }
   ],
   "source": [
    "from BondGraphTools.transforms.latex import bondgraph_to_sympy, reduce\n",
    "dx,x,A,B,J,NL = bondgraph_to_sympy(bg)"
   ]
  },
  {
   "cell_type": "code",
   "execution_count": null,
   "metadata": {},
   "outputs": [],
   "source": [
    "# A dx + Bx = 0\n",
    "Eq(MatAdd(MatMul(A,dx),MatMul(B, x)), 0)"
   ]
  },
  {
   "cell_type": "code",
   "execution_count": null,
   "metadata": {
    "scrolled": false
   },
   "outputs": [],
   "source": [
    "# Jx = 0\n",
    "Eq(MatMul(J,x),0)"
   ]
  },
  {
   "cell_type": "markdown",
   "metadata": {},
   "source": [
    "### Model Reduction\n",
    "\n",
    "One can project the equations of motion on the the manifold defined by $Jx = 0$ which in this case produces the familiar coupled first order equations for a RLC circuit. Here the linear dynamics in reduced co-ordinates $x_r$ are represented as $L(\\dot{x_r}, x_r) = 0$\n",
    "and the nonlinear terms as $N(\\dot{x_r}, x_r) = 0$."
   ]
  },
  {
   "cell_type": "code",
   "execution_count": null,
   "metadata": {},
   "outputs": [],
   "source": [
    "targets = {xp for xp in x if bg.nodes[p].name in str(xp)}\n",
    "linear, nonlinear = reduce(dx,x,A,B,J,NL, targets=targets)\n",
    "linear"
   ]
  },
  {
   "cell_type": "code",
   "execution_count": null,
   "metadata": {},
   "outputs": [],
   "source": [
    "A"
   ]
  },
  {
   "cell_type": "code",
   "execution_count": null,
   "metadata": {},
   "outputs": [],
   "source": []
  },
  {
   "cell_type": "code",
   "execution_count": null,
   "metadata": {},
   "outputs": [],
   "source": []
  }
 ],
 "metadata": {
  "kernelspec": {
   "display_name": "Python 3",
   "language": "python",
   "name": "python3"
  },
  "language_info": {
   "codemirror_mode": {
    "name": "ipython",
    "version": 3
   },
   "file_extension": ".py",
   "mimetype": "text/x-python",
   "name": "python",
   "nbconvert_exporter": "python",
   "pygments_lexer": "ipython3",
   "version": "3.6.4"
  }
 },
 "nbformat": 4,
 "nbformat_minor": 2
}
