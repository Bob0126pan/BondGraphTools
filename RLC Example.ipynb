{
 "cells": [
  {
   "cell_type": "code",
   "execution_count": 1,
   "metadata": {},
   "outputs": [],
   "source": [
    "%matplotlib inline"
   ]
  },
  {
   "cell_type": "markdown",
   "metadata": {},
   "source": [
    "# BondGraphTools Prototype Demonstration\n",
    "## RLC Example\n",
    "### Creating Bond Graphs\n",
    "\n",
    "It its very simple to programmatically create a bond graph using BondGraphTools.\n",
    "Here, we create a parallel RLC circuit by creating a new bond graph, adding a linear capacitor, resistor and inductor.\n",
    "We also add a common effort component which represents Kirchoffs voltage law, and position this at the origin of the visual representation.\n",
    "\n",
    "Finally, we add bonds between the common effort component and each component, which completes our bond graph."
   ]
  },
  {
   "cell_type": "code",
   "execution_count": 2,
   "metadata": {},
   "outputs": [],
   "source": [
    "from BondGraphTools import BondGraph\n",
    "bg = BondGraph(\"RLC\")\n",
    "c = bg.add_component(\"C\")\n",
    "r = bg.add_component(\"R\")\n",
    "i = bg.add_component(\"I\")\n",
    "kvl = bg.add_component(\"0\", pos=(0,0))\n",
    "\n",
    "bg.add_bond(kvl, c)\n",
    "bg.add_bond(kvl, r)\n",
    "bg.add_bond(kvl, i)"
   ]
  },
  {
   "cell_type": "markdown",
   "metadata": {},
   "source": [
    "### Displaying Bond Graphs\n",
    "\n",
    "When programatically creating bond graphs, you may choose to specificy the visual co-ordinates of each component (for example; setting `pos=(0,0)` when creating the `kvl` node.\n",
    "\n",
    "However, if positions are not specified (as in the case of the other components), then there is not yet a visual represntation of the bond graph.\n",
    "\n",
    "Using the `arrange` function, one can automatically generate a visual representation from a bond graph.\n",
    "However, as allgorithmically visualising graphs is a hard problem, the effectiveness of these algorithms may vary.\n",
    "\n",
    "Currently implemented algoprithms include:\n",
    " - Simulated Annealing\n",
    " - Branch & Bound Search\n",
    " - Force-Directed layout\n",
    " - (Forthcoming) New metro-map-esq layout\n",
    "\n",
    "Once a bond graph has been arranged, it can be drawn using the matplotlib transform.\n",
    "\n",
    "There is clearly still work to be done so as to produce high-quality graphs."
   ]
  },
  {
   "cell_type": "code",
   "execution_count": 3,
   "metadata": {},
   "outputs": [
    {
     "data": {
      "image/png": "[encoded data removed]",
      "text/plain": [
       "<matplotlib.figure.Figure at 0x109e2a9e8>"
      ]
     },
     "metadata": {},
     "output_type": "display_data"
    }
   ],
   "source": [
    "from BondGraphTools.transforms.matplotlib import draw\n",
    "from BondGraphTools.core.layout_manager import branch_and_bound, arrange\n",
    "\n",
    "arrange(bg, algorithm=branch_and_bound)\n",
    "fig = draw(bg)"
   ]
  },
  {
   "cell_type": "markdown",
   "metadata": {},
   "source": [
    "### Equations\n",
    "\n",
    "Bond graph models make equation generation and modelling simple.\n",
    "Once a bond graph has been generated, it can be converted into equations as below.\n",
    "This produces the differential algebraic equation:\n",
    "$$A\\frac{dx}{dt} + Bx =0$$\n",
    "$$Jx = 0$$\n",
    "$$NL(x) = 0$$\n",
    "\n",
    "Here $J$ is the 'junction' matrix, which represents how all local co-ordinates are related, and $NL$ is a vector field of nonlinear terms (which in this case is zero)."
   ]
  },
  {
   "cell_type": "code",
   "execution_count": 4,
   "metadata": {},
   "outputs": [],
   "source": [
    "from BondGraphTools.transforms.latex import bondgraph_to_sympy, reduce\n",
    "dx,x,A,B,J,NL = bondgraph_to_sympy(bg)"
   ]
  },
  {
   "cell_type": "code",
   "execution_count": 5,
   "metadata": {},
   "outputs": [
    {
     "data": {
      "image/png": "[encoded data removed]",
      "text/latex": [
       "$$\\left[\\begin{matrix}0 & 0 & 1 & 0 & 0 & 0\\\\0 & 0 & 0 & 1 & 0 & 0\\end{matrix}\\right] \\left[\\begin{matrix}\\frac{d}{d t} \\operatorname{f_{C_1}}{\\left (t \\right )}\\\\\\frac{d}{d t} \\operatorname{f_{R_1}}{\\left (t \\right )}\\\\\\frac{d}{d t} \\operatorname{f_{I_1}}{\\left (t \\right )}\\\\\\frac{d}{d t} \\operatorname{e_{C_1}}{\\left (t \\right )}\\\\\\frac{d}{d t} \\operatorname{e_{R_1}}{\\left (t \\right )}\\\\\\frac{d}{d t} \\operatorname{e_{I_1}}{\\left (t \\right )}\\end{matrix}\\right] + \\left[\\begin{matrix}0 & 0 & 0 & 0 & 0 & - \\frac{1}{L_{I_1}}\\\\- \\frac{1}{c_{C_1}} & 0 & 0 & 0 & 0 & 0\\end{matrix}\\right] \\left[\\begin{matrix}\\operatorname{f_{C_1}}{\\left (t \\right )}\\\\\\operatorname{f_{R_1}}{\\left (t \\right )}\\\\\\operatorname{f_{I_1}}{\\left (t \\right )}\\\\\\operatorname{e_{C_1}}{\\left (t \\right )}\\\\\\operatorname{e_{R_1}}{\\left (t \\right )}\\\\\\operatorname{e_{I_1}}{\\left (t \\right )}\\end{matrix}\\right] = 0$$"
      ],
      "text/plain": [
       "                   ⎡d             ⎤   ⎡                       -1   ⎤          \n",
       "⎡0  0  1  0  0  0⎤⋅⎢──(f_{C_1}(t))⎥ + ⎢   0     0  0  0  0  ───────⎥⋅⎡f_{C_1}(\n",
       "⎢                ⎥ ⎢dt            ⎥   ⎢                     L_{I_1}⎥ ⎢        \n",
       "⎣0  0  0  1  0  0⎦ ⎢              ⎥   ⎢                            ⎥ ⎢f_{R_1}(\n",
       "                   ⎢d             ⎥   ⎢  -1                        ⎥ ⎢        \n",
       "                   ⎢──(f_{R_1}(t))⎥   ⎢───────  0  0  0  0     0   ⎥ ⎢f_{I_1}(\n",
       "                   ⎢dt            ⎥   ⎣c_{C_1}                     ⎦ ⎢        \n",
       "                   ⎢              ⎥                                  ⎢e_{C_1}(\n",
       "                   ⎢d             ⎥                                  ⎢        \n",
       "                   ⎢──(f_{I_1}(t))⎥                                  ⎢e_{R_1}(\n",
       "                   ⎢dt            ⎥                                  ⎢        \n",
       "                   ⎢              ⎥                                  ⎣e_{I_1}(\n",
       "                   ⎢d             ⎥                                           \n",
       "                   ⎢──(e_{C_1}(t))⎥                                           \n",
       "                   ⎢dt            ⎥                                           \n",
       "                   ⎢              ⎥                                           \n",
       "                   ⎢d             ⎥                                           \n",
       "                   ⎢──(e_{R_1}(t))⎥                                           \n",
       "                   ⎢dt            ⎥                                           \n",
       "                   ⎢              ⎥                                           \n",
       "                   ⎢d             ⎥                                           \n",
       "                   ⎢──(e_{I_1}(t))⎥                                           \n",
       "                   ⎣dt            ⎦                                           \n",
       "\n",
       "       \n",
       "t)⎤ = 0\n",
       "  ⎥    \n",
       "t)⎥    \n",
       "  ⎥    \n",
       "t)⎥    \n",
       "  ⎥    \n",
       "t)⎥    \n",
       "  ⎥    \n",
       "t)⎥    \n",
       "  ⎥    \n",
       "t)⎦    \n",
       "       \n",
       "       \n",
       "       \n",
       "       \n",
       "       \n",
       "       \n",
       "       \n",
       "       \n",
       "       \n",
       "       \n",
       "       "
      ]
     },
     "execution_count": 5,
     "metadata": {},
     "output_type": "execute_result"
    }
   ],
   "source": [
    "# A dx + Bx = 0\n",
    "from sympy import init_printing, MatAdd, MatMul, Eq\n",
    "init_printing()\n",
    "Eq(MatAdd(MatMul(A,dx),MatMul(B, x)), 0)"
   ]
  },
  {
   "cell_type": "code",
   "execution_count": 6,
   "metadata": {
    "scrolled": false
   },
   "outputs": [
    {
     "data": {
      "image/png": "[encoded data removed]",
      "text/latex": [
       "$$\\left[\\begin{matrix}1 & 0 & 1 & 0 & 0 & \\frac{1}{r_{R_1}}\\\\0 & 1 & 0 & 0 & 0 & - \\frac{1}{r_{R_1}}\\\\0 & 0 & 0 & 1 & 0 & -1\\\\0 & 0 & 0 & 0 & 1 & -1\\end{matrix}\\right] \\left[\\begin{matrix}\\operatorname{f_{C_1}}{\\left (t \\right )}\\\\\\operatorname{f_{R_1}}{\\left (t \\right )}\\\\\\operatorname{f_{I_1}}{\\left (t \\right )}\\\\\\operatorname{e_{C_1}}{\\left (t \\right )}\\\\\\operatorname{e_{R_1}}{\\left (t \\right )}\\\\\\operatorname{e_{I_1}}{\\left (t \\right )}\\end{matrix}\\right] = 0$$"
      ],
      "text/plain": [
       "⎡                  1   ⎤                 \n",
       "⎢1  0  1  0  0  ───────⎥⋅⎡f_{C_1}(t)⎤ = 0\n",
       "⎢               r_{R_1}⎥ ⎢          ⎥    \n",
       "⎢                      ⎥ ⎢f_{R_1}(t)⎥    \n",
       "⎢                 -1   ⎥ ⎢          ⎥    \n",
       "⎢0  1  0  0  0  ───────⎥ ⎢f_{I_1}(t)⎥    \n",
       "⎢               r_{R_1}⎥ ⎢          ⎥    \n",
       "⎢                      ⎥ ⎢e_{C_1}(t)⎥    \n",
       "⎢0  0  0  1  0    -1   ⎥ ⎢          ⎥    \n",
       "⎢                      ⎥ ⎢e_{R_1}(t)⎥    \n",
       "⎣0  0  0  0  1    -1   ⎦ ⎢          ⎥    \n",
       "                         ⎣e_{I_1}(t)⎦    "
      ]
     },
     "execution_count": 6,
     "metadata": {},
     "output_type": "execute_result"
    }
   ],
   "source": [
    "# Jx = 0\n",
    "Eq(MatMul(J,x),0)"
   ]
  },
  {
   "cell_type": "markdown",
   "metadata": {},
   "source": [
    "### Model Reduction\n",
    "\n",
    "One can project the equations of motion on the the manifold defined by $Jx = 0$ which in this case produces the familiar coupled first order equations for a RLC circuit. Here the linear dynamics in reduced co-ordinates $x_r$ are represented as $L(\\dot{x_r}, x_r) = 0$\n",
    "and the nonlinear terms as $N(\\dot{x_r}, x_r) = 0$."
   ]
  },
  {
   "cell_type": "code",
   "execution_count": 7,
   "metadata": {},
   "outputs": [
    {
     "data": {
      "image/png": "[encoded data removed]",
      "text/latex": [
       "$$\\left[\\begin{matrix}\\frac{d}{d t} \\operatorname{f_{I_1}}{\\left (t \\right )} - \\frac{1}{L_{I_1}} \\operatorname{e_{I_1}}{\\left (t \\right )}\\\\\\frac{d}{d t} \\operatorname{e_{I_1}}{\\left (t \\right )} + \\frac{1}{c_{C_1}} \\operatorname{f_{I_1}}{\\left (t \\right )} + \\frac{\\operatorname{e_{I_1}}{\\left (t \\right )}}{c_{C_1} r_{R_1}}\\end{matrix}\\right]$$"
      ],
      "text/plain": [
       "⎡         d                e_{I_1}(t)         ⎤\n",
       "⎢         ──(f_{I_1}(t)) - ──────────         ⎥\n",
       "⎢         dt                L_{I_1}           ⎥\n",
       "⎢                                             ⎥\n",
       "⎢d                f_{I_1}(t)      e_{I_1}(t)  ⎥\n",
       "⎢──(e_{I_1}(t)) + ────────── + ───────────────⎥\n",
       "⎣dt                c_{C_1}     c_{C_1}⋅r_{R_1}⎦"
      ]
     },
     "execution_count": 7,
     "metadata": {},
     "output_type": "execute_result"
    }
   ],
   "source": [
    "linear, nonlinear = reduce(dx,x,A,B,J,NL)\n",
    "linear"
   ]
  }
 ],
 "metadata": {
  "kernelspec": {
   "display_name": "Python 3",
   "language": "python",
   "name": "python3"
  },
  "language_info": {
   "codemirror_mode": {
    "name": "ipython",
    "version": 3
   },
   "file_extension": ".py",
   "mimetype": "text/x-python",
   "name": "python",
   "nbconvert_exporter": "python",
   "pygments_lexer": "ipython3",
   "version": "3.6.2"
  }
 },
 "nbformat": 4,
 "nbformat_minor": 2
}
